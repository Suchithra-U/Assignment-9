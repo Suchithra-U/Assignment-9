{
 "cells": [
  {
   "cell_type": "code",
   "execution_count": 3,
   "metadata": {},
   "outputs": [
    {
     "name": "stdout",
     "output_type": "stream",
     "text": [
      "Sum of all elements in a given list:  41\n"
     ]
    }
   ],
   "source": [
    "#To sum all the items in a list\n",
    "total=0\n",
    "list1=[6 ,28 ,7]\n",
    "for element in range(0, len(list1)):\n",
    "    total= total + list1[element]\n",
    "print(\"Sum of all elements in a given list: \",total)"
   ]
  },
  {
   "cell_type": "code",
   "execution_count": 4,
   "metadata": {},
   "outputs": [
    {
     "name": "stdout",
     "output_type": "stream",
     "text": [
      "[2, 4, 6]\n"
     ]
    }
   ],
   "source": [
    "#To multiplies all the items in a list\n",
    "List2=[1,2,3]\n",
    "multiplied_List2 = [element * 2 for element in List2]\n",
    "print(multiplied_List2)\n"
   ]
  },
  {
   "cell_type": "code",
   "execution_count": 5,
   "metadata": {},
   "outputs": [
    {
     "name": "stdout",
     "output_type": "stream",
     "text": [
      "6\n",
      "628\n"
     ]
    }
   ],
   "source": [
    "#To print largest and smallest from list\n",
    "list3=[6,28,7,628,286]\n",
    "print(min(list3))\n",
    "print(max(list3))"
   ]
  },
  {
   "cell_type": "code",
   "execution_count": 6,
   "metadata": {},
   "outputs": [
    {
     "name": "stdout",
     "output_type": "stream",
     "text": [
      "[6, 28, 7]\n"
     ]
    }
   ],
   "source": [
    "#To remove duplicates from a list\n",
    "list4=[6,7,28,7]\n",
    "list4.remove(7)\n",
    "print(list4)"
   ]
  },
  {
   "cell_type": "code",
   "execution_count": 11,
   "metadata": {},
   "outputs": [
    {
     "name": "stdout",
     "output_type": "stream",
     "text": [
      "List is not empty\n"
     ]
    }
   ],
   "source": [
    "#To check a list is empty or not\n",
    "list5=[3,4,5]\n",
    "if not list5:\n",
    "    print(\"List is empty\")\n",
    "print(\"List is not empty\")"
   ]
  },
  {
   "cell_type": "code",
   "execution_count": null,
   "metadata": {},
   "outputs": [],
   "source": []
  }
 ],
 "metadata": {
  "kernelspec": {
   "display_name": "Python 3",
   "language": "python",
   "name": "python3"
  },
  "language_info": {
   "codemirror_mode": {
    "name": "ipython",
    "version": 3
   },
   "file_extension": ".py",
   "mimetype": "text/x-python",
   "name": "python",
   "nbconvert_exporter": "python",
   "pygments_lexer": "ipython3",
   "version": "3.8.3"
  }
 },
 "nbformat": 4,
 "nbformat_minor": 4
}
